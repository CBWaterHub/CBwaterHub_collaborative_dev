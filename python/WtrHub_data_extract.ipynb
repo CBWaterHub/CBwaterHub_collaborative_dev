{
 "cells": [
  {
   "cell_type": "markdown",
   "metadata": {},
   "source": [
    "## Water Hub Data Extraction\n",
    "Manipulation of Santiago Botero's script for accessing the Columbia Basin Water Hub data.\n",
    "This is a simplified version of \"Water_Hub_Data_Extraction\"\n",
    "Dec 23, 2020  T.V."
   ]
  },
  {
   "cell_type": "markdown",
   "metadata": {},
   "source": [
    "#### Check that we can connect to the water hub repository\n",
    "The cell below uses \"requests\" to connect with the water hub. A response of 200 tells us that the connection was successful."
   ]
  },
  {
   "cell_type": "code",
   "execution_count": 1,
   "metadata": {},
   "outputs": [
    {
     "name": "stdout",
     "output_type": "stream",
     "text": [
      "<Response [200]>\n"
     ]
    }
   ],
   "source": [
    "# First we need to import the packages we need to make an HTTP request\n",
    "import requests\n",
    "import json\n",
    "\n",
    "data = requests.get('https://waterhub.livinglakescanada.ca/api/3')\n",
    "print(data)"
   ]
  },
  {
   "cell_type": "markdown",
   "metadata": {},
   "source": [
    "#### Look at the packages available\n",
    "The reply is a json file that is contains everything, i.e. all of the packages.\n",
    "json is a javescript notation for moving and fetching data.\n",
    "For more than you even want to know see:  https://docs.python.org/3/library/json.html\n"
   ]
  },
  {
   "cell_type": "code",
   "execution_count": 5,
   "metadata": {},
   "outputs": [],
   "source": [
    "data = requests.get('https://waterhub.livinglakescanada.ca/api/3/action/package_search').json()\n",
    "#print(data)                #uncomment to see the full json string"
   ]
  },
  {
   "cell_type": "markdown",
   "metadata": {},
   "source": [
    "#### Make the output readable.\n",
    "The data that json returns is a dictionary. That is hard to read. The cell below \"prettifies\" it.\n",
    "The second cell sorts the file alphabetically/"
   ]
  },
  {
   "cell_type": "code",
   "execution_count": 6,
   "metadata": {},
   "outputs": [],
   "source": [
    "#print (json.dumps(data, indent=1))    #uncomment to see the result"
   ]
  },
  {
   "cell_type": "code",
   "execution_count": 7,
   "metadata": {},
   "outputs": [],
   "source": [
    "#print (json.dumps(data, indent=1, sort_keys=True))             #uncomment to see the pretty version\n"
   ]
  },
  {
   "cell_type": "markdown",
   "metadata": {},
   "source": [
    "#### Search for a package\n",
    "Here we specify which package within the above has the word Norns Creek data. (package_search?q=norns).\n",
    "I have indented the print to 5 to make it easy to see the \"results\" list, within which we have two \"resources\" being\n",
    "'named' 'Monitoring Stations GPS points' and 'Norns Creek Measurements'.\n",
    "We want the id of the latter which is 12 lines above \"name: Norns Creek Measuremenst\" and is \"id: fb4c4973-ad6e-4774-9832-c46c49f20369\"\n"
   ]
  },
  {
   "cell_type": "code",
   "execution_count": 8,
   "metadata": {},
   "outputs": [],
   "source": [
    "data = requests.get('https://waterhub.livinglakescanada.ca/api/3/action/package_search?q=norns').json()\n",
    "#print(json.dumps(data, indent=5))   #uncomment to see the result"
   ]
  },
  {
   "cell_type": "markdown",
   "metadata": {},
   "source": [
    "#### Finally, look at the actual data\n",
    "If we look at the 'resource_id' of the \"Norns Creek Measurements\", which we put into the URL\n",
    "--- > ~/datastore_search?resource_id=fb4c4973-ad6e-4774-9832-c46c49f20369' we get the JSON string.\n",
    "I have printed this with only an indent of 2 because it is easy to read.\n",
    "I \"typed\" it to prove that it is a string, not a list nor a dictionary."
   ]
  },
  {
   "cell_type": "code",
   "execution_count": 9,
   "metadata": {},
   "outputs": [],
   "source": [
    "data = requests.get('https://waterhub.livinglakescanada.ca/api/3/action/datastore_search?resource_id=fb4c4973-ad6e-4774-9832-c46c49f20369').json()\n",
    "\n",
    "# Find the key for dictionary:\n",
    "json_string = json.dumps(data['result']['records'], indent=2)\n",
    "#print(type(json_string),json_string)    #uncomment to see the 4 station data dictionaries\n",
    "\n"
   ]
  },
  {
   "cell_type": "markdown",
   "metadata": {},
   "source": [
    "#### Now we have the data\n",
    "First we must convert it from a string to a python object, a list, using the Python method 'loads'\n",
    "We can iterate over a list to pull out the dictionaries within it. Remember that Python indices start at 0.\n",
    "We can install some QA/QC checks here such as each dictionary is the same length and key names. (secomd cell)"
   ]
  },
  {
   "cell_type": "code",
   "execution_count": 11,
   "metadata": {},
   "outputs": [
    {
     "name": "stdout",
     "output_type": "stream",
     "text": [
      "<class 'list'>\n"
     ]
    }
   ],
   "source": [
    "dict_list = json.loads(json_string)\n",
    "print (type(dict_list))                   #confirm that we have a 'list'\n",
    "\n",
    "for item in dict_list:                    #iterate and print because the list is only 4 items.\n",
    "    #print (item)             #uncomment to see the 4 dictionaries\n",
    "    continue"
   ]
  },
  {
   "cell_type": "code",
   "execution_count": 10,
   "metadata": {},
   "outputs": [
    {
     "name": "stdout",
     "output_type": "stream",
     "text": [
      "20\n",
      "dict_keys(['_id', 'Title', 'StnID', 'BankfulWidth', 'unit', 'FlowingDepthAvg', 'unit.1', 'StagnationDepthAvg', 'unit.2', 'DO', 'unit.3', 'pH', 'Temperature', 'unit.4', 'Turbidity', 'unit.5', 'WettedWidth', 'unit.6', 'slope', 'unit.7'])\n",
      "20\n",
      "dict_keys(['_id', 'Title', 'StnID', 'BankfulWidth', 'unit', 'FlowingDepthAvg', 'unit.1', 'StagnationDepthAvg', 'unit.2', 'DO', 'unit.3', 'pH', 'Temperature', 'unit.4', 'Turbidity', 'unit.5', 'WettedWidth', 'unit.6', 'slope', 'unit.7'])\n",
      "20\n",
      "dict_keys(['_id', 'Title', 'StnID', 'BankfulWidth', 'unit', 'FlowingDepthAvg', 'unit.1', 'StagnationDepthAvg', 'unit.2', 'DO', 'unit.3', 'pH', 'Temperature', 'unit.4', 'Turbidity', 'unit.5', 'WettedWidth', 'unit.6', 'slope', 'unit.7'])\n",
      "20\n",
      "dict_keys(['_id', 'Title', 'StnID', 'BankfulWidth', 'unit', 'FlowingDepthAvg', 'unit.1', 'StagnationDepthAvg', 'unit.2', 'DO', 'unit.3', 'pH', 'Temperature', 'unit.4', 'Turbidity', 'unit.5', 'WettedWidth', 'unit.6', 'slope', 'unit.7'])\n"
     ]
    }
   ],
   "source": [
    "# ------------QA/QC---------------------\n",
    "for item in dict_list:                  \n",
    "    print (len(item))               # The dictionaries should be the same size                    \n",
    "    print (item.keys())             # The fienld names should be the same."
   ]
  },
  {
   "cell_type": "markdown",
   "metadata": {},
   "source": [
    "### Update to get an array which we can write to a file or further process\n",
    "\n",
    "In the cell above we printed the dictionary keys and confirmed that each dictionary contained the same number of items (20) and the same keys. \n",
    "\n",
    "Next we take the names of first dictionary, dict_list[0], as an iterable list so that we are always lookiing through the dictionaries in the same order. This is necessary because dictionaries store their data in random order."
   ]
  },
  {
   "cell_type": "code",
   "execution_count": 13,
   "metadata": {},
   "outputs": [
    {
     "name": "stdout",
     "output_type": "stream",
     "text": [
      "<class 'list'> \n",
      " ['_id', 'Title', 'StnID', 'BankfulWidth', 'unit', 'FlowingDepthAvg', 'unit.1', 'StagnationDepthAvg', 'unit.2', 'DO', 'unit.3', 'pH', 'Temperature', 'unit.4', 'Turbidity', 'unit.5', 'WettedWidth', 'unit.6', 'slope', 'unit.7']\n"
     ]
    }
   ],
   "source": [
    "#convert the dictionary keys to a list\n",
    "names = dict_list[0]\n",
    "column_names = list(names)\n",
    "print (type(column_names), '\\n', column_names)"
   ]
  },
  {
   "cell_type": "markdown",
   "metadata": {},
   "source": [
    "### Loop through the fields and pick out the values\n",
    "The \"dict_list\" contains 4 dictionaries but we will set it up so that it will handle any number of dictionaries sing a counter \"i\". Then we will set up an empty array \"array\" to hold rows of values arranged according to the same dictionary key in each row.\n",
    "\n",
    "The first \"for\" loop looks at each set of data items (dictionary) in turn. The nested \"for\" loop then looks at each item in teh dictionary and extracts the value using our  list of \"column_names\" to keep the values in order. Finally we print the array of values to confirm that we have created a 2D array.\n"
   ]
  },
  {
   "cell_type": "code",
   "execution_count": 14,
   "metadata": {},
   "outputs": [],
   "source": [
    "i = 0\n",
    "array = []\n",
    "for item in dict_list:\n",
    "    row = []\n",
    "    for name in column_names:\n",
    "        val = item.get(name, 'key not found')  # default message if the key does not exist\n",
    "        row.append(val)\n",
    "    #print (row)\n",
    "    array.append(row)\n",
    "    i += 1\n",
    "#print (array)           #uncomment to see the 2D array\n",
    "        "
   ]
  },
  {
   "cell_type": "markdown",
   "metadata": {},
   "source": [
    "### Convert the array to a pandas dataframe\n",
    "A pandas dataframe can be easily written to a csv file as shown in the commented out final line.\n",
    "\n",
    "or can be further manipulated in Python to process the data."
   ]
  },
  {
   "cell_type": "code",
   "execution_count": 29,
   "metadata": {},
   "outputs": [
    {
     "name": "stdout",
     "output_type": "stream",
     "text": [
      "   _id     Title  StnID  BankfulWidth unit  FlowingDepthAvg unit.1  \\\n",
      "0    0  Station1      1          0.10    m             0.60      m   \n",
      "1    1      Stn2      2          0.93    m             0.53      m   \n",
      "2    2      Stn3      3          0.87    m             0.43      m   \n",
      "3    3      Stn4      4          0.80    m             0.54      m   \n",
      "\n",
      "   StagnationDepthAvg unit.2    DO unit.3    pH  Temperature unit.4  \\\n",
      "0                0.80      m  7.00   mg/L  6.00         6.00      C   \n",
      "1                0.58      m  6.34   mg/L  6.45         8.30      C   \n",
      "2                0.54      m  6.54   mg/L  6.38         6.76      C   \n",
      "3                0.60      m  6.45   mg/L  7.00         7.40      C   \n",
      "\n",
      "   Turbidity unit.5  WettedWidth unit.6  slope unit.7  \n",
      "0        1.0    NTU         0.90      m      4      %  \n",
      "1        1.3    NTU         0.89      m      5      %  \n",
      "2        1.2    NTU         0.82      m      4      %  \n",
      "3        1.1    NTU         0.73      m      3      %  \n"
     ]
    }
   ],
   "source": [
    "import pandas as pd\n",
    "dataframe=pd.DataFrame(array, columns=(column_names))\n",
    "print (dataframe)\n",
    "\n",
    "#dataframe.to_csv('file_name.csv')"
   ]
  },
  {
   "cell_type": "code",
   "execution_count": null,
   "metadata": {},
   "outputs": [],
   "source": []
  }
 ],
 "metadata": {
  "kernelspec": {
   "display_name": "Python 3",
   "language": "python",
   "name": "python3"
  },
  "language_info": {
   "codemirror_mode": {
    "name": "ipython",
    "version": 3
   },
   "file_extension": ".py",
   "mimetype": "text/x-python",
   "name": "python",
   "nbconvert_exporter": "python",
   "pygments_lexer": "ipython3",
   "version": "3.8.5"
  }
 },
 "nbformat": 4,
 "nbformat_minor": 2
}
