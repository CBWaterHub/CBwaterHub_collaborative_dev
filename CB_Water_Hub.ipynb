{
 "cells": [
  {
   "cell_type": "markdown",
   "metadata": {},
   "source": [
    "## Water Hub Data Access\n",
    "Draft 1 of the Data Access Chapter in the \"Water Data and Code\" Tutorial Series. This code was first written by Santiago Botero using Python 3.9.1 64-bit, and then further adapted into a jupyter notebook by Richard Johnson."
   ]
  },
  {
   "cell_type": "markdown",
   "metadata": {},
   "source": [
    "#### Check that we can connect to the water hub repository\n",
    "The cell below uses \"requests\" to connect with the water hub. A response of 200 tells us that the connection was successful."
   ]
  },
  {
   "cell_type": "code",
   "execution_count": null,
   "metadata": {},
   "outputs": [],
   "source": [
    "# First we need to import the packages we need to make an HTTP request\n",
    "import requests\n",
    "import json\n",
    "\n",
    "data = requests.get('https://waterhub.livinglakescanada.ca/api/3')\n",
    "print(data)"
   ]
  },
  {
   "cell_type": "markdown",
   "metadata": {},
   "source": [
    "####  Look at the packages available\n",
    "The reply is a json file that is contains everything, i.e. all of the packages.\n",
    "json is a javascript notation for moving and fetching data.\n",
    "For more than you even want to know see:  https://docs.python.org/3/library/json.html\n"
   ]
  },
  {
   "cell_type": "code",
   "execution_count": null,
   "metadata": {},
   "outputs": [],
   "source": [
    "data = requests.get('https://waterhub.livinglakescanada.ca/api/3/action/package_search').json()\n",
    "print(data)"
   ]
  },
  {
   "cell_type": "markdown",
   "metadata": {},
   "source": [
    "#### Make the output readable.\n",
    "The data that json returns is a dictionary. That is hard to read. The cell below \"prettifies\" it.\n",
    "The second cell sorts the file alphabetically/"
   ]
  },
  {
   "cell_type": "code",
   "execution_count": null,
   "metadata": {
    "tags": [
     "outputPrepend"
    ]
   },
   "outputs": [],
   "source": [
    "print (json.dumps(data, indent=1))"
   ]
  },
  {
   "cell_type": "code",
   "execution_count": null,
   "metadata": {
    "tags": [
     "outputPrepend"
    ]
   },
   "outputs": [],
   "source": [
    "print (json.dumps(data, indent=1, sort_keys=True))\n"
   ]
  },
  {
   "cell_type": "markdown",
   "metadata": {},
   "source": [
    "#### Search for a package\n",
    "Here we specify which package within the above has the word Norns Creek data. (package_search?q=norns).\n",
    "I have indented the print to 5 to make it easy to see the \"results\" list, within which we have two \"resources\" being\n",
    "'named' 'Monitoring Stations GPS points' and 'Norns Creek Measurements'.\n",
    "We want the id of the latter which is 12 lines above \"name: Norns Creek Measuremenst\" and is \"id: fb4c4973-ad6e-4774-9832-c46c49f20369\"\n"
   ]
  },
  {
   "cell_type": "code",
   "execution_count": null,
   "metadata": {},
   "outputs": [],
   "source": [
    "data = requests.get('https://waterhub.livinglakescanada.ca/api/3/action/package_search?q=norns').json()\n",
    "print(json.dumps(data, indent=5))"
   ]
  },
  {
   "cell_type": "markdown",
   "metadata": {},
   "source": [
    "#### Finally, look at the actual data\n",
    "If we look at the 'resource_id' of the \"Norns Creek Measurements\", which we put into the URL\n",
    "--- > ~/datastore_search?resource_id=fb4c4973-ad6e-4774-9832-c46c49f20369' we get the JSON string.\n",
    "I have printed this with only an indent of 2 because it is easy to read.\n",
    "I \"typed\" it to prove that it is a string, not a list nor a dictionary."
   ]
  },
  {
   "cell_type": "code",
   "execution_count": null,
   "metadata": {},
   "outputs": [],
   "source": [
    "data = requests.get('https://waterhub.livinglakescanada.ca/api/3/action/datastore_search?resource_id=fb4c4973-ad6e-4774-9832-c46c49f20369').json()\n",
    "\n",
    "# Find the key for dictionary:\n",
    "json_string = json.dumps(data['result']['records'], indent=2)\n",
    "print(type(json_string),json_string)\n",
    "\n"
   ]
  },
  {
   "cell_type": "markdown",
   "metadata": {},
   "source": [
    "#### Now we have the data\n",
    "First we must convert it from a string to a python object, a list, using the Python method 'loads'\n",
    "We can iterate over a list to pull out the dictionaries within it. Remember that Python indices start at 0.\n",
    "We can install some QA/QC checks here such as each dictionary is the same length and key names. (secomd cell)"
   ]
  },
  {
   "cell_type": "code",
   "execution_count": null,
   "metadata": {},
   "outputs": [],
   "source": [
    "dict_list = json.loads(json_string)\n",
    "print (type(dict_list))                   #confirm that we have a 'list'\n",
    "\n",
    "for item in dict_list:                    #iterate and print because the list is only 4 items.\n",
    "    print (item)"
   ]
  },
  {
   "cell_type": "code",
   "execution_count": null,
   "metadata": {},
   "outputs": [],
   "source": [
    "# ------------QA/QC---------------------\n",
    "for item in dict_list:                  \n",
    "    print (len(item))               # The dictionaries should be the same size                    \n",
    "    print (item.keys())             # The fienld names should be the same."
   ]
  },
  {
   "cell_type": "code",
   "execution_count": null,
   "metadata": {},
   "outputs": [],
   "source": []
  }
 ],
 "metadata": {
  "kernelspec": {
   "display_name": "Python 3",
   "language": "python",
   "name": "python3"
  },
  "language_info": {
   "codemirror_mode": {
    "name": "ipython",
    "version": 3
   },
   "file_extension": ".py",
   "mimetype": "text/x-python",
   "name": "python",
   "nbconvert_exporter": "python",
   "pygments_lexer": "ipython3",
   "version": "3.9.1-final"
  }
 },
 "nbformat": 4,
 "nbformat_minor": 4
}