{
 "cells": [
  {
   "cell_type": "markdown",
   "metadata": {},
   "source": [
    "## HOBO Temperature Logger Plotting\n",
    "This notebook shows how to take the output from a HOBO temperature logger, manipulate the log file and plot the temperature data against time.\n",
    "\n",
    "The data file we will be using is from the HOBO \"Water Temp Pro v2\" temperature data logger installed in Wilson Creek during the time from September 26, 2013 to October 13, 2014. Raw HOBO data files have a non-unicde character in the header line (the degree symbol). The simplest way to repair this is to open the file in Notebook, Excel or a similar program and delete the symbol.  This has been done on the example file but needs to be done on all HOBO input files in the CB Water Hub.\n",
    "\n",
    "Rather than hard code a URL into the script, a small tkinter window will open to allow the user to browse for the file on their computer.\n",
    "\n",
    "Jan 10, 2021  T.V."
   ]
  },
  {
   "cell_type": "code",
   "execution_count": 1,
   "metadata": {},
   "outputs": [
    {
     "name": "stdout",
     "output_type": "stream",
     "text": [
      "   id Date Time, GMT-07:00  Temp, C  Batt, V\n",
      "0  14        9/26/13 12:00    7.920     3.63\n",
      "1  15        9/26/13 14:00    8.220     3.63\n",
      "2  16        9/26/13 16:00    8.519     3.63\n",
      "3  17        9/26/13 18:00    8.494     3.63\n",
      "4  18        9/26/13 20:00    8.469     3.63\n"
     ]
    }
   ],
   "source": [
    "# =============== import libraries ===========\n",
    "import re\n",
    "import tkinter as tk\n",
    "from tkinter import filedialog\n",
    "import pandas as pd\n",
    "\n",
    "# set up basic window\n",
    "root= tk.Tk()\n",
    "canvas1 = tk.Canvas(root, width = 300, height = 300, bg = 'lightsteelblue2', relief = 'raised')\n",
    "canvas1.pack()\n",
    "\n",
    "def getCSV ():\n",
    "    global df\n",
    "    import_file_path = filedialog.askopenfilename()\n",
    "    df = pd.read_csv (import_file_path)\n",
    "    print (df.head())\n",
    "    root.destroy()                         #closes the window after the file has been selected.\n",
    "\n",
    "# Open window with a \"Browse Button\" to find the file\n",
    "browseButton_CSV = tk.Button(text=\"      Import CSV File     \", command=getCSV, bg='green', fg='white', font=('helvetica', 12, 'bold'))\n",
    "canvas1.create_window(150, 150, window=browseButton_CSV)\n",
    "\n",
    "root.mainloop()\n",
    "\n",
    "# =============================================  "
   ]
  },
  {
   "cell_type": "markdown",
   "metadata": {},
   "source": [
    "#### HOBO temperature log files\n",
    "The data logger records the temperature at the time interval specified when the logger is activated and set up. In the above example it is logging the temperature every 2 hours. It also logs the battery voltage.\n",
    "\n",
    "The coding cell above populated a Pandas dataframe with the values. The \"id\" is simply the log number. In this case the first 13 temperatures were discarded because the unit was recording air tempertures prior to being installed in the creek. This can easily be done using 'Notepad'. The heading on the temperature column can be replaced with something like 'temp' as can all of the columns. The cell below renames the date/time column for simplicity when refering to it in the code.\n",
    "\n",
    "Since this is a csv file the data is simply a series of strings separated by commas, however, Pandas interprets the \"id\" as an integer and the temp and voltage as floating point numbers. The date/time is just an object. The \"df.info()\" confirms that there are no \"null\" values. If there were we would need to clean up the dataset to handle the \"null\" values. See https://www.w3schools.com/python/pandas_cleaning_empty_cells.asp for methods of cleaning up the \"null\" or badly formatted cells."
   ]
  },
  {
   "cell_type": "code",
   "execution_count": 2,
   "metadata": {},
   "outputs": [
    {
     "name": "stdout",
     "output_type": "stream",
     "text": [
      "<class 'pandas.core.frame.DataFrame'>\n",
      "RangeIndex: 4585 entries, 0 to 4584\n",
      "Data columns (total 4 columns):\n",
      "id                      4585 non-null int64\n",
      "Date Time, GMT-07:00    4585 non-null object\n",
      "Temp, C                 4585 non-null float64\n",
      "Batt, V                 4585 non-null float64\n",
      "dtypes: float64(2), int64(1), object(1)\n",
      "memory usage: 143.4+ KB\n",
      "None\n",
      "   id           time   temp  Batt, V\n",
      "0  14  9/26/13 12:00  7.920     3.63\n",
      "1  15  9/26/13 14:00  8.220     3.63\n",
      "2  16  9/26/13 16:00  8.519     3.63\n",
      "3  17  9/26/13 18:00  8.494     3.63\n",
      "4  18  9/26/13 20:00  8.469     3.63\n"
     ]
    }
   ],
   "source": [
    "# Confirm that there are no \"null\" values in the dataframe\n",
    "print (df.info())\n",
    "\n",
    "# rename the second and third columns for simplisity. a new dataframe is set up so we do not disturb the original.\n",
    "df1 = df.rename(columns = {'Date Time, GMT-07:00': 'time', 'Temp, C': 'temp'}, inplace = False)\n",
    "print (df1.head())\n"
   ]
  },
  {
   "cell_type": "markdown",
   "metadata": {},
   "source": [
    "### Parse the \"time\" column\n",
    "The following section splits out the hours from the rest of the \"time\" column based upon the blank in the string. The \"date\" section is then split into \"month, \"day\" and \"year\" columns. the orginal column has been left in so tht one can confirm that everything is working as it should be."
   ]
  },
  {
   "cell_type": "code",
   "execution_count": 4,
   "metadata": {},
   "outputs": [
    {
     "name": "stdout",
     "output_type": "stream",
     "text": [
      "   id           time   temp  Batt, V   hour day month  year\n",
      "0  14  9/26/13 12:00  7.920     3.63  12:00  26     9  2013\n",
      "1  15  9/26/13 14:00  8.220     3.63  14:00  26     9  2013\n",
      "2  16  9/26/13 16:00  8.519     3.63  16:00  26     9  2013\n",
      "3  17  9/26/13 18:00  8.494     3.63  18:00  26     9  2013\n",
      "4  18  9/26/13 20:00  8.469     3.63  20:00  26     9  2013\n"
     ]
    }
   ],
   "source": [
    "# split \"time\" string on blank\n",
    "hours = []\n",
    "dates = []\n",
    "for i in range(0,len(df1)):\n",
    "    date, hr = df1.iloc[i,1].split()\n",
    "    hours.append(hr)\n",
    "    dates.append(date)\n",
    "\n",
    "df1['hour'] =hours\n",
    "df1['date'] =dates\n",
    "\n",
    "# split the date string to year, month and day\n",
    "years =[]\n",
    "months =[]\n",
    "days =[]\n",
    "for i in range(0,len(df1)):\n",
    "    mon, day, yr = df1.iloc[i,5].split('/')\n",
    "    months.append(mon)\n",
    "    days.append(day)\n",
    "    years.append(int(yr)+2000)\n",
    "    \n",
    "#add columns to dataframe\n",
    "df1['day'] = days\n",
    "df1['month'] = months\n",
    "df1['year'] = years\n",
    "\n",
    "#finally remove the date column\n",
    "df1.drop(['date'], axis=1, inplace=True)\n",
    "\n",
    "print (df1.head())"
   ]
  },
  {
   "cell_type": "markdown",
   "metadata": {},
   "source": [
    "### Plot the full temperature profile\n",
    "Plot the temperature against time to see the full picture. A new list is created, using the format \"yr-mon-day time\", for plotting."
   ]
  },
  {
   "cell_type": "code",
   "execution_count": 5,
   "metadata": {},
   "outputs": [],
   "source": [
    "# convert 'time to' conventional format \"yr-mon-day time\"\n",
    "x = []\n",
    "y = []\n",
    "\n",
    "for i in range(0,len(df1)):\n",
    "    datetime = str(df1.iloc[i,7]) + '-' + str(df1.iloc[i,6]) + '-' + str(df1.iloc[i,5]) + ' ' + str(df1.iloc[i,4])\n",
    "    #print (datetime)\n",
    "    x.append(datetime)\n",
    "    y.append(df1.iloc[i,2])\n",
    "    \n",
    "#print (x[0:4], y[0:4])"
   ]
  },
  {
   "cell_type": "code",
   "execution_count": 6,
   "metadata": {},
   "outputs": [
    {
     "data": {
      "image/png": "[encoded data removed]",
      "text/plain": [
       "<Figure size 432x288 with 1 Axes>"
      ]
     },
     "metadata": {
      "needs_background": "light"
     },
     "output_type": "display_data"
    }
   ],
   "source": [
    "# $$$$$$$$$$$$$$$$$$$$$$$$$$$$$$ This cell took 5 minutes to plot on the Pavilion dm4 $$$$$$$$$$$$$$$$\n",
    "import matplotlib.pyplot as plt\n",
    "%matplotlib inline\n",
    "plt.plot(x, y)\n",
    "plt.show()  \n",
    "\n",
    "# $$$$$$$$$$$$$$$$$$$$ should be revised to avarage each day $$$$$$$$$$$$$$$$$$$$$$$$$$$$$$$$$$$$$$$$"
   ]
  },
  {
   "cell_type": "markdown",
   "metadata": {},
   "source": [
    "### Plot yearly temperatures profile on the same graph\n",
    "For comparison, yearly plots on the same graph show the annual changes. <Script to be developed>"
   ]
  }
 ],
 "metadata": {
  "kernelspec": {
   "display_name": "Python 3",
   "language": "python",
   "name": "python3"
  },
  "language_info": {
   "codemirror_mode": {
    "name": "ipython",
    "version": 3
   },
   "file_extension": ".py",
   "mimetype": "text/x-python",
   "name": "python",
   "nbconvert_exporter": "python",
   "pygments_lexer": "ipython3",
   "version": "3.7.3"
  }
 },
 "nbformat": 4,
 "nbformat_minor": 2
}
